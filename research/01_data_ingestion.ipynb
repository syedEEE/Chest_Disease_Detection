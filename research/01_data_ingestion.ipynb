{
 "cells": [
  {
   "cell_type": "code",
   "execution_count": 1,
   "id": "c8831f55",
   "metadata": {},
   "outputs": [],
   "source": [
    "import os"
   ]
  },
  {
   "cell_type": "code",
   "execution_count": 2,
   "id": "5132ff09",
   "metadata": {},
   "outputs": [
    {
     "data": {
      "text/plain": [
       "'c:\\\\MLOps\\\\Chest-Disease\\\\Chest_Disease_Detection\\\\research'"
      ]
     },
     "execution_count": 2,
     "metadata": {},
     "output_type": "execute_result"
    }
   ],
   "source": [
    "%pwd"
   ]
  },
  {
   "cell_type": "code",
   "execution_count": 3,
   "id": "e5424db1",
   "metadata": {},
   "outputs": [],
   "source": [
    "os.chdir(\"../\")"
   ]
  },
  {
   "cell_type": "code",
   "execution_count": 4,
   "id": "e9050493",
   "metadata": {},
   "outputs": [
    {
     "data": {
      "text/plain": [
       "'c:\\\\MLOps\\\\Chest-Disease\\\\Chest_Disease_Detection'"
      ]
     },
     "execution_count": 4,
     "metadata": {},
     "output_type": "execute_result"
    }
   ],
   "source": [
    "%pwd"
   ]
  },
  {
   "cell_type": "code",
   "execution_count": 12,
   "id": "39713e72",
   "metadata": {},
   "outputs": [
    {
     "name": "stdout",
     "output_type": "stream",
     "text": [
      " Volume in drive C is Acer\n",
      " Volume Serial Number is BC76-A51F\n",
      "\n",
      " Directory of c:\\MLOps\\Chest-Disease\\Chest_Disease_Detection\n",
      "\n",
      "11-05-2025  11:25    <DIR>          .\n",
      "10-05-2025  15:00    <DIR>          ..\n",
      "11-05-2025  11:13             3,630 .gitignore\n",
      "11-05-2025  11:13    <DIR>          artifacts\n",
      "10-05-2025  15:01    <DIR>          config\n",
      "10-05-2025  15:01                 0 dvc.yaml\n",
      "10-05-2025  15:00             1,089 LICENSE\n",
      "11-05-2025  10:58    <DIR>          logs\n",
      "11-05-2025  11:25               434 main.py\n",
      "11-05-2025  11:12                12 params.yaml\n",
      "11-05-2025  10:48               961 README.md\n",
      "10-05-2025  15:06               194 requirements.txt\n",
      "11-05-2025  11:14    <DIR>          research\n",
      "10-05-2025  15:08               806 setup.py\n",
      "11-05-2025  11:25    <DIR>          src\n",
      "10-05-2025  15:01    <DIR>          templates\n",
      "10-05-2025  15:01             1,280 templates.py\n",
      "               9 File(s)          8,406 bytes\n",
      "               8 Dir(s)  232,661,622,784 bytes free\n"
     ]
    }
   ],
   "source": [
    "ls"
   ]
  },
  {
   "cell_type": "code",
   "execution_count": 5,
   "id": "1f970c92",
   "metadata": {},
   "outputs": [],
   "source": [
    "from dataclasses import dataclass\n",
    "from pathlib import Path\n",
    "\n",
    "\n",
    "@dataclass(frozen=True)\n",
    "class DataIngestionConfig:\n",
    "    root_dir: Path\n",
    "    source_URL: str\n",
    "    local_data_file: Path\n",
    "    unzip_dir: Path"
   ]
  },
  {
   "cell_type": "code",
   "execution_count": 6,
   "id": "38ee09e5",
   "metadata": {},
   "outputs": [],
   "source": [
    "from cnnClassifier.constants import *\n",
    "from cnnClassifier.constants import CONFIG_FILE_PATH,PARAMS_FILE_PATH\n",
    "from cnnClassifier.utils.common import read_yaml, create_directories"
   ]
  },
  {
   "cell_type": "code",
   "execution_count": 7,
   "id": "3254d204",
   "metadata": {},
   "outputs": [],
   "source": [
    "class ConfigurationManager:\n",
    "    def __init__(\n",
    "        self,\n",
    "        config_filepath = CONFIG_FILE_PATH,\n",
    "        params_filepath = PARAMS_FILE_PATH):\n",
    "\n",
    "        self.config = read_yaml(config_filepath)\n",
    "        self.params = read_yaml(params_filepath)\n",
    "\n",
    "        create_directories([self.config.artifacts_root])\n",
    "\n",
    "\n",
    "    \n",
    "    def get_data_ingestion_config(self) -> DataIngestionConfig:\n",
    "        config = self.config.data_ingestion\n",
    "\n",
    "        create_directories([config.root_dir])\n",
    "\n",
    "        data_ingestion_config = DataIngestionConfig(\n",
    "            root_dir=config.root_dir,\n",
    "            source_URL=config.source_URL,\n",
    "            local_data_file=config.local_data_file,\n",
    "            unzip_dir=config.unzip_dir \n",
    "        )\n",
    "\n",
    "        return data_ingestion_config"
   ]
  },
  {
   "cell_type": "code",
   "execution_count": 8,
   "id": "996971ed",
   "metadata": {},
   "outputs": [],
   "source": [
    "import os\n",
    "import zipfile\n",
    "import gdown\n",
    "from cnnClassifier import logger\n",
    "from cnnClassifier.utils.common import get_size"
   ]
  },
  {
   "cell_type": "code",
   "execution_count": 9,
   "id": "53823e0c",
   "metadata": {},
   "outputs": [],
   "source": [
    "class DataIngestion:\n",
    "    def __init__(self, config: DataIngestionConfig):\n",
    "        self.config = config\n",
    "\n",
    "\n",
    "    \n",
    "     \n",
    "    def download_file(self)-> str:\n",
    "        '''\n",
    "        Fetch data from the url\n",
    "        '''\n",
    "\n",
    "        try: \n",
    "            dataset_url = self.config.source_URL\n",
    "            zip_download_dir = self.config.local_data_file\n",
    "            os.makedirs(\"artifacts/data_ingestion\", exist_ok=True)\n",
    "            logger.info(f\"Downloading data from {dataset_url} into file {zip_download_dir}\")\n",
    "\n",
    "            file_id = dataset_url.split(\"/\")[-2]\n",
    "            prefix = 'https://drive.google.com/uc?/export=download&id='\n",
    "            gdown.download(prefix+file_id,zip_download_dir)\n",
    "\n",
    "            logger.info(f\"Downloaded data from {dataset_url} into file {zip_download_dir}\")\n",
    "\n",
    "        except Exception as e:\n",
    "            raise e\n",
    "        \n",
    "    \n",
    "    def extract_zip_file(self):\n",
    "        \"\"\"\n",
    "        zip_file_path: str\n",
    "        Extracts the zip file into the data directory\n",
    "        Function returns None\n",
    "        \"\"\"\n",
    "        unzip_path = self.config.unzip_dir\n",
    "        os.makedirs(unzip_path, exist_ok=True)\n",
    "        with zipfile.ZipFile(self.config.local_data_file, 'r') as zip_ref:\n",
    "            zip_ref.extractall(unzip_path)"
   ]
  },
  {
   "cell_type": "code",
   "execution_count": 10,
   "id": "8846e0ac",
   "metadata": {},
   "outputs": [
    {
     "name": "stdout",
     "output_type": "stream",
     "text": [
      " Volume in drive C is Acer\n",
      " Volume Serial Number is BC76-A51F\n",
      "\n",
      " Directory of c:\\MLOps\\Chest-Disease\\Chest_Disease_Detection\n",
      "\n",
      "11-05-2025  10:58    <DIR>          .\n",
      "10-05-2025  15:00    <DIR>          ..\n",
      "10-05-2025  15:00             3,617 .gitignore\n",
      "10-05-2025  15:01    <DIR>          config\n",
      "10-05-2025  15:01                 0 dvc.yaml\n",
      "10-05-2025  15:00             1,089 LICENSE\n",
      "11-05-2025  10:58    <DIR>          logs\n",
      "11-05-2025  11:12                12 params.yaml\n",
      "11-05-2025  10:48               961 README.md\n",
      "10-05-2025  15:06               194 requirements.txt\n",
      "11-05-2025  11:04    <DIR>          research\n",
      "10-05-2025  15:08               806 setup.py\n",
      "10-05-2025  15:20    <DIR>          src\n",
      "10-05-2025  15:01    <DIR>          templates\n",
      "10-05-2025  15:01             1,280 templates.py\n",
      "               8 File(s)          7,959 bytes\n",
      "               7 Dir(s)  232,690,196,480 bytes free\n"
     ]
    }
   ],
   "source": [
    "ls"
   ]
  },
  {
   "cell_type": "code",
   "execution_count": 11,
   "id": "cc355869",
   "metadata": {},
   "outputs": [
    {
     "name": "stdout",
     "output_type": "stream",
     "text": [
      "[2025-05-11 11:13:15,138: INFO: common: yaml file: config\\config.yaml loaded successfully]\n",
      "[2025-05-11 11:13:15,142: INFO: common: yaml file: params.yaml loaded successfully]\n",
      "[2025-05-11 11:13:15,147: INFO: common: created directory at: artifacts]\n",
      "[2025-05-11 11:13:15,150: INFO: common: created directory at: artifacts/data_ingestion]\n",
      "[2025-05-11 11:13:15,153: INFO: 1983665874: Downloading data from https://drive.google.com/file/d/19dssf7Msyw7FDQm-9O3B1H7Av6v0WDry/view?usp=drive_link into file artifacts/data_ingestion/data.zip]\n"
     ]
    },
    {
     "name": "stderr",
     "output_type": "stream",
     "text": [
      "Downloading...\n",
      "From (original): https://drive.google.com/uc?/export=download&id=19dssf7Msyw7FDQm-9O3B1H7Av6v0WDry\n",
      "From (redirected): https://drive.google.com/uc?%2Fexport=download&id=19dssf7Msyw7FDQm-9O3B1H7Av6v0WDry&confirm=t&uuid=fce22989-411e-4a5a-b454-fcfe0d970680\n",
      "To: c:\\MLOps\\Chest-Disease\\Chest_Disease_Detection\\artifacts\\data_ingestion\\data.zip\n",
      "100%|██████████| 124M/124M [01:47<00:00, 1.15MB/s] "
     ]
    },
    {
     "name": "stdout",
     "output_type": "stream",
     "text": [
      "[2025-05-11 11:15:08,074: INFO: 1983665874: Downloaded data from https://drive.google.com/file/d/19dssf7Msyw7FDQm-9O3B1H7Av6v0WDry/view?usp=drive_link into file artifacts/data_ingestion/data.zip]\n"
     ]
    },
    {
     "name": "stderr",
     "output_type": "stream",
     "text": [
      "\n"
     ]
    }
   ],
   "source": [
    "try:\n",
    "    config = ConfigurationManager()\n",
    "    data_ingestion_config = config.get_data_ingestion_config()\n",
    "    data_ingestion = DataIngestion(config=data_ingestion_config)\n",
    "    data_ingestion.download_file()\n",
    "    data_ingestion.extract_zip_file()\n",
    "except Exception as e:\n",
    "    raise e"
   ]
  },
  {
   "cell_type": "code",
   "execution_count": null,
   "id": "2eb1f252",
   "metadata": {},
   "outputs": [],
   "source": []
  }
 ],
 "metadata": {
  "kernelspec": {
   "display_name": "c_disease",
   "language": "python",
   "name": "python3"
  },
  "language_info": {
   "codemirror_mode": {
    "name": "ipython",
    "version": 3
   },
   "file_extension": ".py",
   "mimetype": "text/x-python",
   "name": "python",
   "nbconvert_exporter": "python",
   "pygments_lexer": "ipython3",
   "version": "3.9.21"
  }
 },
 "nbformat": 4,
 "nbformat_minor": 5
}
